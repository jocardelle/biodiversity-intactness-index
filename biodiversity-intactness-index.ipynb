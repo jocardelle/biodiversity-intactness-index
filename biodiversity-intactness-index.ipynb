{
 "cells": [
  {
   "cell_type": "markdown",
   "id": "b018ee56-11ce-4ff8-a9c3-560f6c0fec87",
   "metadata": {},
   "source": [
    "# Biodiversity Intactness Index change in Phoenix, AZ\n",
    "\n",
    "Author: Josephine Cardelle\n",
    "\n",
    "[Github repository](https://github.com/jocardelle/biodiversity-intactness-index)\n",
    "\n",
    "## About\n",
    "\n",
    "### Purpose\n",
    "\n",
    "### Highlights\n",
    "\n",
    "### About the data\n",
    "\n",
    "### References"
   ]
  },
  {
   "cell_type": "code",
   "execution_count": 5,
   "id": "ecbe42c3-6818-4770-9f7a-d245e92ac10d",
   "metadata": {
    "tags": []
   },
   "outputs": [],
   "source": [
    "import pandas as pd\n",
    "import numpy as np\n",
    "import matplotlib.pyplot as plt\n",
    "import geopandas as gpd\n",
    "import rioxarray as rioxr\n",
    "\n",
    "from pystac_client import Client  # To access STAC catalogs\n",
    "\n",
    "import planetary_computer  # To sign items from the MPC STAC catalog \n",
    "\n",
    "from IPython.display import Image  # To nicely display images"
   ]
  },
  {
   "cell_type": "code",
   "execution_count": 6,
   "id": "bbb4ec77-7a39-4b97-94bb-fddc26ae6be4",
   "metadata": {
    "tags": []
   },
   "outputs": [],
   "source": [
    "# Access MPC catalog\n",
    "catalog = Client.open(\n",
    "    \"https://planetarycomputer.microsoft.com/api/stac/v1\",\n",
    "    modifier=planetary_computer.sign_inplace,\n",
    ")"
   ]
  },
  {
   "cell_type": "code",
   "execution_count": null,
   "id": "158684d8-1af7-41f1-a2a1-9a90b6e02586",
   "metadata": {},
   "outputs": [],
   "source": []
  }
 ],
 "metadata": {
  "kernelspec": {
   "display_name": "Anaconda 3 (EDS220)",
   "language": "python",
   "name": "eds220-env"
  },
  "language_info": {
   "codemirror_mode": {
    "name": "ipython",
    "version": 3
   },
   "file_extension": ".py",
   "mimetype": "text/x-python",
   "name": "python",
   "nbconvert_exporter": "python",
   "pygments_lexer": "ipython3",
   "version": "3.11.4"
  }
 },
 "nbformat": 4,
 "nbformat_minor": 5
}
